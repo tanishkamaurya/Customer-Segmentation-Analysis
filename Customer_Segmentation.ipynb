{
  "nbformat": 4,
  "nbformat_minor": 0,
  "metadata": {
    "colab": {
      "provenance": [],
      "authorship_tag": "ABX9TyMMvVvNcuMkgG43zOrg1ODn",
      "include_colab_link": true
    },
    "kernelspec": {
      "name": "python3",
      "display_name": "Python 3"
    },
    "language_info": {
      "name": "python"
    }
  },
  "cells": [
    {
      "cell_type": "markdown",
      "metadata": {
        "id": "view-in-github",
        "colab_type": "text"
      },
      "source": [
        "<a href=\"https://colab.research.google.com/github/tanishkamaurya/Customer-Segmentation-Analysis/blob/main/Customer_Segmentation.ipynb\" target=\"_parent\"><img src=\"https://colab.research.google.com/assets/colab-badge.svg\" alt=\"Open In Colab\"/></a>"
      ]
    },
    {
      "cell_type": "code",
      "source": [
        "!pip install kagglehub"
      ],
      "metadata": {
        "id": "HD8-BSpCuJeE"
      },
      "execution_count": null,
      "outputs": []
    },
    {
      "cell_type": "code",
      "source": [
        "import kagglehub\n",
        "\n",
        "# Download dataset from Kaggle using kagglehub\n",
        "path = kagglehub.dataset_download(\"vjchoudhary7/customer-segmentation-tutorial-in-python\")\n",
        "\n",
        "print(\"Path to dataset files:\", path)"
      ],
      "metadata": {
        "id": "VhkGCzEeuh6n"
      },
      "execution_count": null,
      "outputs": []
    },
    {
      "cell_type": "code",
      "source": [
        "import pandas as pd\n",
        "import os\n",
        "\n",
        "# Construct full file path\n",
        "csv_path = os.path.join(path, \"Mall_Customers.csv\")\n",
        "\n",
        "# Load the dataset\n",
        "df = pd.read_csv(csv_path)\n",
        "\n",
        "# Display first few rows\n",
        "df.head()"
      ],
      "metadata": {
        "id": "GdUGsdnIulgX"
      },
      "execution_count": null,
      "outputs": []
    },
    {
      "cell_type": "code",
      "source": [
        "df.shape"
      ],
      "metadata": {
        "id": "vCt7UKBBuptd"
      },
      "execution_count": null,
      "outputs": []
    },
    {
      "cell_type": "code",
      "source": [
        "print(\"Number of Rows\",df.shape[0])\n",
        "print(\"Number of Columns\",df.shape[1])"
      ],
      "metadata": {
        "id": "wmsZk4bwuytC"
      },
      "execution_count": null,
      "outputs": []
    },
    {
      "cell_type": "code",
      "source": [
        "df.info()"
      ],
      "metadata": {
        "id": "sWNAgkaJu8W6"
      },
      "execution_count": null,
      "outputs": []
    },
    {
      "cell_type": "code",
      "source": [
        "df.isnull().sum()"
      ],
      "metadata": {
        "id": "H_r8chbWu_Yh"
      },
      "execution_count": null,
      "outputs": []
    },
    {
      "cell_type": "code",
      "source": [
        "df.describe()"
      ],
      "metadata": {
        "id": "YQJmxAYlvBtw"
      },
      "execution_count": null,
      "outputs": []
    },
    {
      "cell_type": "markdown",
      "source": [
        "# Kmeans Clutering"
      ],
      "metadata": {
        "id": "AXd2CwVTvHvC"
      }
    },
    {
      "cell_type": "code",
      "source": [
        "df.columns"
      ],
      "metadata": {
        "id": "tk72l4OQvD81"
      },
      "execution_count": null,
      "outputs": []
    },
    {
      "cell_type": "code",
      "source": [
        "X = df[['Annual Income (k$)','Spending Score (1-100)']]"
      ],
      "metadata": {
        "id": "X19ULTYlvGci"
      },
      "execution_count": null,
      "outputs": []
    },
    {
      "cell_type": "code",
      "source": [
        "X.head()"
      ],
      "metadata": {
        "id": "1DirilGDvOXv"
      },
      "execution_count": null,
      "outputs": []
    },
    {
      "cell_type": "code",
      "source": [
        "from sklearn.cluster import KMeans"
      ],
      "metadata": {
        "id": "DtEemgh5vSp9"
      },
      "execution_count": null,
      "outputs": []
    },
    {
      "cell_type": "code",
      "source": [
        "k_means = KMeans()\n",
        "k_means.fit(X)"
      ],
      "metadata": {
        "id": "kuHRXvdXvU5l"
      },
      "execution_count": null,
      "outputs": []
    },
    {
      "cell_type": "code",
      "source": [
        "k_means = KMeans(n_clusters=5)\n",
        "k_means.fit_predict(X)"
      ],
      "metadata": {
        "id": "moDu8Ui-vWi1"
      },
      "execution_count": null,
      "outputs": []
    },
    {
      "cell_type": "markdown",
      "source": [
        "### Elbow method to find optimal clusters"
      ],
      "metadata": {
        "id": "6ps-o_FdvbcH"
      }
    },
    {
      "cell_type": "code",
      "source": [
        "wcss=[]\n",
        "for i in range(1,11):\n",
        "    k_means = KMeans(n_clusters=i)\n",
        "    k_means.fit(X)\n",
        "    wcss.append(k_means.inertia_)"
      ],
      "metadata": {
        "id": "pBvFJoYWvYGY"
      },
      "execution_count": null,
      "outputs": []
    },
    {
      "cell_type": "code",
      "source": [
        "wcss"
      ],
      "metadata": {
        "id": "aVfxdvNFva8C"
      },
      "execution_count": null,
      "outputs": []
    },
    {
      "cell_type": "code",
      "source": [
        "import matplotlib.pyplot as plt"
      ],
      "metadata": {
        "id": "VmTghC17vhW-"
      },
      "execution_count": null,
      "outputs": []
    },
    {
      "cell_type": "code",
      "source": [
        "plt.plot(range(1,11),wcss)\n",
        "plt.title(\"Elbow Method\")\n",
        "plt.xlabel(\"Number of Clusters\")\n",
        "plt.ylabel(\"WCSS\")\n",
        "plt.show()"
      ],
      "metadata": {
        "id": "r6unJQ5hvjLi"
      },
      "execution_count": null,
      "outputs": []
    },
    {
      "cell_type": "markdown",
      "source": [
        "## Model Training"
      ],
      "metadata": {
        "id": "c27bjpb6vpHZ"
      }
    },
    {
      "cell_type": "code",
      "source": [
        "plt.plot(range(1,11),wcss)\n",
        "plt.title(\"Elbow Method\")\n",
        "plt.xlabel(\"Number of Clusters\")\n",
        "plt.ylabel(\"WCSS\")\n",
        "plt.show()"
      ],
      "metadata": {
        "id": "pghzOjUFvkuw"
      },
      "execution_count": null,
      "outputs": []
    },
    {
      "cell_type": "code",
      "source": [
        "k_means = KMeans(n_clusters=5,random_state=42)\n",
        "y_means = k_means.fit_predict(X)"
      ],
      "metadata": {
        "id": "vSd00X5svot9"
      },
      "execution_count": null,
      "outputs": []
    },
    {
      "cell_type": "code",
      "source": [
        "y_means"
      ],
      "metadata": {
        "id": "ps96NXTbvt11"
      },
      "execution_count": null,
      "outputs": []
    },
    {
      "cell_type": "code",
      "source": [
        "plt.scatter(X.iloc[y_means==0,0],X.iloc[y_means==0,1],s=100,c='red',label=\"Cluster 1\")\n",
        "plt.scatter(X.iloc[y_means==1,0],X.iloc[y_means==1,1],s=100,c='yellow',label=\"Cluster 2\")\n",
        "plt.scatter(X.iloc[y_means==2,0],X.iloc[y_means==2,1],s=100,c='green',label=\"Cluster 3\")\n",
        "plt.scatter(X.iloc[y_means==3,0],X.iloc[y_means==3,1],s=100,c='blue',label=\"Cluster 4\")\n",
        "plt.scatter(X.iloc[y_means==4,0],X.iloc[y_means==4,1],s=100,c='black',label=\"Cluster 5\")\n",
        "plt.scatter(k_means.cluster_centers_[:,0],k_means.cluster_centers_[:,1],s=100,c=\"magenta\")\n",
        "plt.title(\"Customer Segmentation\")\n",
        "plt.xlabel(\"Annual Income\")\n",
        "plt.ylabel(\"Spending Score\")\n",
        "plt.legend()\n",
        "plt.show()"
      ],
      "metadata": {
        "id": "1XgaZjxuvvEi"
      },
      "execution_count": null,
      "outputs": []
    },
    {
      "cell_type": "code",
      "source": [
        "k_means.predict([[15,39]])"
      ],
      "metadata": {
        "id": "1iZ2qI_8vwnd"
      },
      "execution_count": null,
      "outputs": []
    },
    {
      "cell_type": "code",
      "source": [
        "import joblib"
      ],
      "metadata": {
        "id": "rU2KzWN1vyEn"
      },
      "execution_count": null,
      "outputs": []
    },
    {
      "cell_type": "code",
      "source": [
        "joblib.dump(k_means,\"customer_segmentation\")"
      ],
      "metadata": {
        "id": "p9hPEc89vz2A"
      },
      "execution_count": null,
      "outputs": []
    },
    {
      "cell_type": "code",
      "source": [
        "model = joblib.load(\"customer_segmentation\")"
      ],
      "metadata": {
        "id": "nv9HcSwtv12O"
      },
      "execution_count": null,
      "outputs": []
    },
    {
      "cell_type": "code",
      "source": [
        "model.predict([[15,39]])"
      ],
      "metadata": {
        "id": "XOWx1d_hv3WN"
      },
      "execution_count": null,
      "outputs": []
    },
    {
      "cell_type": "code",
      "source": [
        "from tkinter import *\n",
        "import joblib"
      ],
      "metadata": {
        "id": "YW8ydv-Mv4eg"
      },
      "execution_count": null,
      "outputs": []
    },
    {
      "cell_type": "code",
      "source": [
        "def show_entry_fields():\n",
        "    p1=int(e1.get())\n",
        "    p2=int(e2.get())\n",
        "\n",
        "    model = joblib.load('Customer Segmentation')\n",
        "    result=model.predict([[p1,p2]])\n",
        "    print(\"This Customer belongs to cluster no: \", result[0])\n",
        "\n",
        "    if result[0] == 0:\n",
        "        Label(master, text=\"Customers with medium annual income and medium annual spend\").grid(row=31)\n",
        "    elif result[0]==1:\n",
        "        Label(master, text=\"Customers with high annual income but low annual spend\").grid(row=31)\n",
        "    elif result[0]==2:\n",
        "        Label(master, text=\"Customers with low annual income and low annual spend\").grid(row=31)\n",
        "    elif result[0]==3:\n",
        "        Label(master, text=\"Customers low annual income but high annual spend\").grid(row=31)\n",
        "    elif result[0]==4:\n",
        "        Label(master, text=\"Customers with high annual income and high annual spend\").grid(row=31)\n",
        "\n",
        "master = Tk()\n",
        "master.title(\"Customer Segmentation Using Machine Learning\")\n",
        "\n",
        "\n",
        "label = Label(master, text = \"Customer Segmentation Using Machine Learning\"\n",
        "                          , bg = \"black\", fg = \"white\"). \\\n",
        "                               grid(row=0,columnspan=2)\n",
        "\n",
        "Label(master,text=\"Annual Income\").grid(row=1)\n",
        "Label(master, text=\"Spending Score\").grid(row=2)\n",
        "\n",
        "\n",
        "e1 = Entry(master)\n",
        "e2 = Entry(master)\n",
        "\n",
        "e1.grid(row=1, column=1)\n",
        "e2.grid(row=2, column=1)\n",
        "\n",
        "Button(master, text='Predict', command=show_entry_fields).grid()\n",
        "\n",
        "mainloop()"
      ],
      "metadata": {
        "id": "wYmDbJ3dv6C4"
      },
      "execution_count": null,
      "outputs": []
    },
    {
      "cell_type": "code",
      "source": [],
      "metadata": {
        "id": "dGBW_chjv8dp"
      },
      "execution_count": null,
      "outputs": []
    }
  ]
}